{
  "nbformat": 4,
  "nbformat_minor": 0,
  "metadata": {
    "colab": {
      "name": "DeepLearningwithPython-limited-data-boston-housing.ipynb",
      "provenance": [],
      "collapsed_sections": []
    },
    "kernelspec": {
      "name": "python3",
      "display_name": "Python 3"
    },
    "language_info": {
      "name": "python"
    }
  },
  "cells": [
    {
      "cell_type": "code",
      "execution_count": 1,
      "metadata": {
        "colab": {
          "base_uri": "https://localhost:8080/"
        },
        "id": "9tOHe9M8K-0X",
        "outputId": "3efd89d9-e25e-4aae-cd14-498381af9a32"
      },
      "outputs": [
        {
          "output_type": "stream",
          "name": "stdout",
          "text": [
            "Downloading data from https://storage.googleapis.com/tensorflow/tf-keras-datasets/boston_housing.npz\n",
            "57344/57026 [==============================] - 0s 0us/step\n",
            "65536/57026 [==================================] - 0s 0us/step\n"
          ]
        }
      ],
      "source": [
        "from keras.datasets import boston_housing\n",
        "(train_data, train_targets), (test_data, test_targets) = boston_housing.load_data()"
      ]
    },
    {
      "cell_type": "code",
      "source": [
        "train_data.shape"
      ],
      "metadata": {
        "colab": {
          "base_uri": "https://localhost:8080/"
        },
        "id": "FK7LH5hiLcpD",
        "outputId": "97eeee15-e690-4151-c998-de4651674705"
      },
      "execution_count": 2,
      "outputs": [
        {
          "output_type": "execute_result",
          "data": {
            "text/plain": [
              "(404, 13)"
            ]
          },
          "metadata": {},
          "execution_count": 2
        }
      ]
    },
    {
      "cell_type": "code",
      "source": [
        "test_data.shape"
      ],
      "metadata": {
        "colab": {
          "base_uri": "https://localhost:8080/"
        },
        "id": "yCC-duaULjPf",
        "outputId": "35a152ac-fb39-416b-ed4e-f424168c45a7"
      },
      "execution_count": 3,
      "outputs": [
        {
          "output_type": "execute_result",
          "data": {
            "text/plain": [
              "(102, 13)"
            ]
          },
          "metadata": {},
          "execution_count": 3
        }
      ]
    },
    {
      "cell_type": "code",
      "source": [
        "train_targets #10.000 dolar cinsindendir."
      ],
      "metadata": {
        "colab": {
          "base_uri": "https://localhost:8080/"
        },
        "id": "Mmdy_fGRLndU",
        "outputId": "12144577-2ac5-47a0-bcca-ab73a5855f40"
      },
      "execution_count": 4,
      "outputs": [
        {
          "output_type": "execute_result",
          "data": {
            "text/plain": [
              "array([15.2, 42.3, 50. , 21.1, 17.7, 18.5, 11.3, 15.6, 15.6, 14.4, 12.1,\n",
              "       17.9, 23.1, 19.9, 15.7,  8.8, 50. , 22.5, 24.1, 27.5, 10.9, 30.8,\n",
              "       32.9, 24. , 18.5, 13.3, 22.9, 34.7, 16.6, 17.5, 22.3, 16.1, 14.9,\n",
              "       23.1, 34.9, 25. , 13.9, 13.1, 20.4, 20. , 15.2, 24.7, 22.2, 16.7,\n",
              "       12.7, 15.6, 18.4, 21. , 30.1, 15.1, 18.7,  9.6, 31.5, 24.8, 19.1,\n",
              "       22. , 14.5, 11. , 32. , 29.4, 20.3, 24.4, 14.6, 19.5, 14.1, 14.3,\n",
              "       15.6, 10.5,  6.3, 19.3, 19.3, 13.4, 36.4, 17.8, 13.5, 16.5,  8.3,\n",
              "       14.3, 16. , 13.4, 28.6, 43.5, 20.2, 22. , 23. , 20.7, 12.5, 48.5,\n",
              "       14.6, 13.4, 23.7, 50. , 21.7, 39.8, 38.7, 22.2, 34.9, 22.5, 31.1,\n",
              "       28.7, 46. , 41.7, 21. , 26.6, 15. , 24.4, 13.3, 21.2, 11.7, 21.7,\n",
              "       19.4, 50. , 22.8, 19.7, 24.7, 36.2, 14.2, 18.9, 18.3, 20.6, 24.6,\n",
              "       18.2,  8.7, 44. , 10.4, 13.2, 21.2, 37. , 30.7, 22.9, 20. , 19.3,\n",
              "       31.7, 32. , 23.1, 18.8, 10.9, 50. , 19.6,  5. , 14.4, 19.8, 13.8,\n",
              "       19.6, 23.9, 24.5, 25. , 19.9, 17.2, 24.6, 13.5, 26.6, 21.4, 11.9,\n",
              "       22.6, 19.6,  8.5, 23.7, 23.1, 22.4, 20.5, 23.6, 18.4, 35.2, 23.1,\n",
              "       27.9, 20.6, 23.7, 28. , 13.6, 27.1, 23.6, 20.6, 18.2, 21.7, 17.1,\n",
              "        8.4, 25.3, 13.8, 22.2, 18.4, 20.7, 31.6, 30.5, 20.3,  8.8, 19.2,\n",
              "       19.4, 23.1, 23. , 14.8, 48.8, 22.6, 33.4, 21.1, 13.6, 32.2, 13.1,\n",
              "       23.4, 18.9, 23.9, 11.8, 23.3, 22.8, 19.6, 16.7, 13.4, 22.2, 20.4,\n",
              "       21.8, 26.4, 14.9, 24.1, 23.8, 12.3, 29.1, 21. , 19.5, 23.3, 23.8,\n",
              "       17.8, 11.5, 21.7, 19.9, 25. , 33.4, 28.5, 21.4, 24.3, 27.5, 33.1,\n",
              "       16.2, 23.3, 48.3, 22.9, 22.8, 13.1, 12.7, 22.6, 15. , 15.3, 10.5,\n",
              "       24. , 18.5, 21.7, 19.5, 33.2, 23.2,  5. , 19.1, 12.7, 22.3, 10.2,\n",
              "       13.9, 16.3, 17. , 20.1, 29.9, 17.2, 37.3, 45.4, 17.8, 23.2, 29. ,\n",
              "       22. , 18. , 17.4, 34.6, 20.1, 25. , 15.6, 24.8, 28.2, 21.2, 21.4,\n",
              "       23.8, 31. , 26.2, 17.4, 37.9, 17.5, 20. ,  8.3, 23.9,  8.4, 13.8,\n",
              "        7.2, 11.7, 17.1, 21.6, 50. , 16.1, 20.4, 20.6, 21.4, 20.6, 36.5,\n",
              "        8.5, 24.8, 10.8, 21.9, 17.3, 18.9, 36.2, 14.9, 18.2, 33.3, 21.8,\n",
              "       19.7, 31.6, 24.8, 19.4, 22.8,  7.5, 44.8, 16.8, 18.7, 50. , 50. ,\n",
              "       19.5, 20.1, 50. , 17.2, 20.8, 19.3, 41.3, 20.4, 20.5, 13.8, 16.5,\n",
              "       23.9, 20.6, 31.5, 23.3, 16.8, 14. , 33.8, 36.1, 12.8, 18.3, 18.7,\n",
              "       19.1, 29. , 30.1, 50. , 50. , 22. , 11.9, 37.6, 50. , 22.7, 20.8,\n",
              "       23.5, 27.9, 50. , 19.3, 23.9, 22.6, 15.2, 21.7, 19.2, 43.8, 20.3,\n",
              "       33.2, 19.9, 22.5, 32.7, 22. , 17.1, 19. , 15. , 16.1, 25.1, 23.7,\n",
              "       28.7, 37.2, 22.6, 16.4, 25. , 29.8, 22.1, 17.4, 18.1, 30.3, 17.5,\n",
              "       24.7, 12.6, 26.5, 28.7, 13.3, 10.4, 24.4, 23. , 20. , 17.8,  7. ,\n",
              "       11.8, 24.4, 13.8, 19.4, 25.2, 19.4, 19.4, 29.1])"
            ]
          },
          "metadata": {},
          "execution_count": 4
        }
      ]
    },
    {
      "cell_type": "code",
      "source": [
        "mean = train_data.mean(axis=0)\n",
        "train_data -= mean\n",
        "std = train_data.std(axis=0)\n",
        "train_data /= std"
      ],
      "metadata": {
        "id": "GXaBqqf5L7Ao"
      },
      "execution_count": 5,
      "outputs": []
    },
    {
      "cell_type": "code",
      "source": [
        "test_data -= mean\n",
        "test_data /= std"
      ],
      "metadata": {
        "id": "jQNkrxC1M1CN"
      },
      "execution_count": 6,
      "outputs": []
    },
    {
      "cell_type": "code",
      "source": [
        "from keras import models\n",
        "from keras import layers \n",
        "\n",
        "def build_model():\n",
        "  model = models.Sequential()\n",
        "  model.add(layers.Dense(64, activation='relu',\n",
        "                         input_shape = (train_data.shape[1], )))\n",
        "  model.add(layers.Dense(64, activation='relu',))\n",
        "  model.add(layers.Dense(1))\n",
        "  model.compile(optimizer='rmsprop', loss='mse', metrics=['mae'])\n",
        "  return model"
      ],
      "metadata": {
        "id": "-pweqMhBNLZB"
      },
      "execution_count": 7,
      "outputs": []
    },
    {
      "cell_type": "code",
      "source": [
        "import numpy as np\n",
        "\n",
        "k=4\n",
        "num_val_samples = len(train_data) // k\n",
        "num_epochs = 100\n",
        "all_scores = []\n",
        "for i in range(k):\n",
        "  print('processing fold #', i)\n",
        "  val_data = train_data[i * num_val_samples: (i + 1) * num_val_samples]\n",
        "  val_targets = train_targets[i * num_val_samples: (i + 1) * num_val_samples]\n",
        "\n",
        "  partial_train_data = np.concatenate([train_data[:i * num_val_samples],\n",
        "                                          train_data[(i + 1) * num_val_samples:]],\n",
        "                                          axis=0)\n",
        "  partial_train_targets = np.concatenate([train_targets[:i * num_val_samples],\n",
        "                                          train_targets[(i + 1) * num_val_samples:]],\n",
        "                                          axis=0)  \n",
        "  model = build_model()\n",
        "  model.fit(partial_train_data, partial_train_targets, epochs = num_epochs, batch_size =1, verbose=0)\n",
        "  val_mse, val_mae = model.evaluate(val_data, val_targets, verbose=0)\n",
        "  all_scores.append(val_mae)"
      ],
      "metadata": {
        "colab": {
          "base_uri": "https://localhost:8080/"
        },
        "id": "Kt48MKGjOueB",
        "outputId": "4e372732-acc4-4418-9a7a-357fcec5d5a3"
      },
      "execution_count": 8,
      "outputs": [
        {
          "output_type": "stream",
          "name": "stdout",
          "text": [
            "processing fold # 0\n",
            "processing fold # 1\n",
            "processing fold # 2\n",
            "processing fold # 3\n"
          ]
        }
      ]
    },
    {
      "cell_type": "code",
      "source": [
        "all_scores"
      ],
      "metadata": {
        "colab": {
          "base_uri": "https://localhost:8080/"
        },
        "id": "4Mw1yD5uWTGF",
        "outputId": "bf09c926-f049-4b3d-f78d-eca63c97b59c"
      },
      "execution_count": 9,
      "outputs": [
        {
          "output_type": "execute_result",
          "data": {
            "text/plain": [
              "[2.2126035690307617,\n",
              " 2.1639323234558105,\n",
              " 2.6593406200408936,\n",
              " 2.3590753078460693]"
            ]
          },
          "metadata": {},
          "execution_count": 9
        }
      ]
    },
    {
      "cell_type": "code",
      "source": [
        "np.mean(all_scores)"
      ],
      "metadata": {
        "colab": {
          "base_uri": "https://localhost:8080/"
        },
        "id": "KNwuHT4YYt-S",
        "outputId": "1eab5586-f5e3-4c86-f6c3-1f22f9415066"
      },
      "execution_count": 10,
      "outputs": [
        {
          "output_type": "execute_result",
          "data": {
            "text/plain": [
              "2.348737955093384"
            ]
          },
          "metadata": {},
          "execution_count": 10
        }
      ]
    },
    {
      "cell_type": "code",
      "source": [
        "num_epochs = 500\n",
        "all_mae_histories = []\n",
        "for i in range(k):\n",
        "  print('processing fold #', i)\n",
        "  val_data = train_data[i * num_val_samples: (i + 1) * num_val_samples]\n",
        "  val_targets = train_targets[i * num_val_samples: (i + 1) * num_val_samples]\n",
        "\n",
        "  partial_train_data = np.concatenate([train_data[:i * num_val_samples],\n",
        "                                          train_data[(i + 1) * num_val_samples:]],\n",
        "                                          axis=0)\n",
        "  partial_train_targets = np.concatenate([train_targets[:i * num_val_samples],\n",
        "                                          train_targets[(i + 1) * num_val_samples:]],\n",
        "                                          axis=0)  \n",
        "  model = build_model()\n",
        "  history = model.fit(partial_train_data, partial_train_targets, validation_data=(val_data, val_targets),\n",
        "                      epochs=num_epochs, batch_size=1, verbose=0)\n",
        "  mae_history = history.history['val_mae']\n",
        "  all_mae_histories.append(mae_history)\n"
      ],
      "metadata": {
        "colab": {
          "base_uri": "https://localhost:8080/"
        },
        "id": "vEoRgCTdYyry",
        "outputId": "f3f560e0-9eb2-43d4-806f-5bee703c6535"
      },
      "execution_count": 11,
      "outputs": [
        {
          "output_type": "stream",
          "name": "stdout",
          "text": [
            "processing fold # 0\n",
            "processing fold # 1\n",
            "processing fold # 2\n",
            "processing fold # 3\n"
          ]
        }
      ]
    },
    {
      "cell_type": "code",
      "source": [
        "average_mae_history = [\n",
        "                       np.mean([x[i] for x in all_mae_histories]) for i in range(num_epochs)\n",
        "]"
      ],
      "metadata": {
        "id": "7KfJvlYgalRa"
      },
      "execution_count": 12,
      "outputs": []
    },
    {
      "cell_type": "code",
      "source": [
        "average_mae_history"
      ],
      "metadata": {
        "colab": {
          "base_uri": "https://localhost:8080/"
        },
        "id": "zXwAjBUN7D-_",
        "outputId": "f48bf0f3-0aad-4469-edaa-f05c1b9b134b"
      },
      "execution_count": 13,
      "outputs": [
        {
          "output_type": "execute_result",
          "data": {
            "text/plain": [
              "[4.675690650939941,\n",
              " 3.383179783821106,\n",
              " 3.074491798877716,\n",
              " 2.8492504954338074,\n",
              " 2.828418016433716,\n",
              " 2.6002458333969116,\n",
              " 2.622214198112488,\n",
              " 2.5106759667396545,\n",
              " 2.6167895197868347,\n",
              " 2.5572953820228577,\n",
              " 2.5699260234832764,\n",
              " 2.52015483379364,\n",
              " 2.3720653653144836,\n",
              " 2.4887457489967346,\n",
              " 2.5609856843948364,\n",
              " 2.4439128041267395,\n",
              " 2.525313377380371,\n",
              " 2.439985930919647,\n",
              " 2.4247186481952667,\n",
              " 2.423141300678253,\n",
              " 2.447168856859207,\n",
              " 2.5576515793800354,\n",
              " 2.4206403493881226,\n",
              " 2.404912620782852,\n",
              " 2.4749914407730103,\n",
              " 2.4474268555641174,\n",
              " 2.313126266002655,\n",
              " 2.4087569415569305,\n",
              " 2.565105229616165,\n",
              " 2.4267339408397675,\n",
              " 2.3548589944839478,\n",
              " 2.559374153614044,\n",
              " 2.4842474460601807,\n",
              " 2.3302047550678253,\n",
              " 2.364114999771118,\n",
              " 2.378309190273285,\n",
              " 2.397322505712509,\n",
              " 2.360487222671509,\n",
              " 2.3830223083496094,\n",
              " 2.2252743542194366,\n",
              " 2.343940019607544,\n",
              " 2.3433305621147156,\n",
              " 2.330736517906189,\n",
              " 2.2985534965991974,\n",
              " 2.3887590169906616,\n",
              " 2.590483069419861,\n",
              " 2.360681414604187,\n",
              " 2.4806456565856934,\n",
              " 2.2688448429107666,\n",
              " 2.445052921772003,\n",
              " 2.3963285088539124,\n",
              " 2.2619577944278717,\n",
              " 2.309186667203903,\n",
              " 2.276856482028961,\n",
              " 2.4008177518844604,\n",
              " 2.5563244223594666,\n",
              " 2.387123465538025,\n",
              " 2.349223017692566,\n",
              " 2.448532462120056,\n",
              " 2.2538255155086517,\n",
              " 2.526346266269684,\n",
              " 2.403903603553772,\n",
              " 2.420294165611267,\n",
              " 2.414815127849579,\n",
              " 2.357455223798752,\n",
              " 2.4462831616401672,\n",
              " 2.3600777983665466,\n",
              " 2.515756845474243,\n",
              " 2.3312477469444275,\n",
              " 2.4594526290893555,\n",
              " 2.4715534448623657,\n",
              " 2.472189247608185,\n",
              " 2.4376604557037354,\n",
              " 2.4206355810165405,\n",
              " 2.4607415199279785,\n",
              " 2.4829675555229187,\n",
              " 2.501081705093384,\n",
              " 2.2603231370449066,\n",
              " 2.4139456152915955,\n",
              " 2.366877317428589,\n",
              " 2.4508562088012695,\n",
              " 2.423594832420349,\n",
              " 2.4848857522010803,\n",
              " 2.3341026306152344,\n",
              " 2.3002153635025024,\n",
              " 2.5607587099075317,\n",
              " 2.4176798462867737,\n",
              " 2.332027494907379,\n",
              " 2.3233989477157593,\n",
              " 2.382989287376404,\n",
              " 2.3865204453468323,\n",
              " 2.418026924133301,\n",
              " 2.3048462569713593,\n",
              " 2.394971191883087,\n",
              " 2.517070770263672,\n",
              " 2.4056880474090576,\n",
              " 2.440913140773773,\n",
              " 2.463965058326721,\n",
              " 2.401921808719635,\n",
              " 2.381211757659912,\n",
              " 2.499512791633606,\n",
              " 2.364589273929596,\n",
              " 2.4035109877586365,\n",
              " 2.4663482904434204,\n",
              " 2.4304181337356567,\n",
              " 2.6079114377498627,\n",
              " 2.4404121041297913,\n",
              " 2.348523825407028,\n",
              " 2.373888909816742,\n",
              " 2.455092132091522,\n",
              " 2.401589870452881,\n",
              " 2.4129631519317627,\n",
              " 2.4915173053741455,\n",
              " 2.3823012709617615,\n",
              " 2.499487042427063,\n",
              " 2.3920496702194214,\n",
              " 2.4458493888378143,\n",
              " 2.4347524642944336,\n",
              " 2.4524483680725098,\n",
              " 2.5935028791427612,\n",
              " 2.5366060733795166,\n",
              " 2.4771429896354675,\n",
              " 2.419231414794922,\n",
              " 2.3942171335220337,\n",
              " 2.3869082927703857,\n",
              " 2.469783127307892,\n",
              " 2.4235761165618896,\n",
              " 2.471607744693756,\n",
              " 2.525576412677765,\n",
              " 2.3649010062217712,\n",
              " 2.4703505635261536,\n",
              " 2.4471402764320374,\n",
              " 2.45613557100296,\n",
              " 2.4373594522476196,\n",
              " 2.4170256853103638,\n",
              " 2.4238507747650146,\n",
              " 2.5991705656051636,\n",
              " 2.570024609565735,\n",
              " 2.4572437405586243,\n",
              " 2.572290062904358,\n",
              " 2.361537516117096,\n",
              " 2.471949517726898,\n",
              " 2.4560622572898865,\n",
              " 2.367788553237915,\n",
              " 2.399984359741211,\n",
              " 2.425912320613861,\n",
              " 2.55367910861969,\n",
              " 2.448914647102356,\n",
              " 2.542779803276062,\n",
              " 2.3971001505851746,\n",
              " 2.327205538749695,\n",
              " 2.4534846544265747,\n",
              " 2.4401838779449463,\n",
              " 2.560958981513977,\n",
              " 2.4097890853881836,\n",
              " 2.538995325565338,\n",
              " 2.5251519083976746,\n",
              " 2.415773034095764,\n",
              " 2.512980282306671,\n",
              " 2.536738395690918,\n",
              " 2.5128814578056335,\n",
              " 2.656867504119873,\n",
              " 2.482128858566284,\n",
              " 2.4214316606521606,\n",
              " 2.534224033355713,\n",
              " 2.4400593042373657,\n",
              " 2.534266948699951,\n",
              " 2.4278836846351624,\n",
              " 2.4983235001564026,\n",
              " 2.5425602793693542,\n",
              " 2.504934847354889,\n",
              " 2.4101699590682983,\n",
              " 2.613700032234192,\n",
              " 2.5435497164726257,\n",
              " 2.4727551341056824,\n",
              " 2.5576752424240112,\n",
              " 2.424532413482666,\n",
              " 2.571768343448639,\n",
              " 2.514353036880493,\n",
              " 2.5619933009147644,\n",
              " 2.4199342131614685,\n",
              " 2.5319664478302,\n",
              " 2.373294234275818,\n",
              " 2.4545230865478516,\n",
              " 2.6405199766159058,\n",
              " 2.5021934509277344,\n",
              " 2.5614031553268433,\n",
              " 2.5658004879951477,\n",
              " 2.488229215145111,\n",
              " 2.452559769153595,\n",
              " 2.563647747039795,\n",
              " 2.568410098552704,\n",
              " 2.5385027527809143,\n",
              " 2.4678568840026855,\n",
              " 2.476233184337616,\n",
              " 2.5828638672828674,\n",
              " 2.5611796379089355,\n",
              " 2.52913099527359,\n",
              " 2.4753029346466064,\n",
              " 2.5280370712280273,\n",
              " 2.5490583181381226,\n",
              " 2.523893713951111,\n",
              " 2.5261273980140686,\n",
              " 2.501858651638031,\n",
              " 2.7204431891441345,\n",
              " 2.5494911074638367,\n",
              " 2.61415696144104,\n",
              " 2.627832531929016,\n",
              " 2.545740246772766,\n",
              " 2.635599434375763,\n",
              " 2.6468197107315063,\n",
              " 2.554475247859955,\n",
              " 2.586146593093872,\n",
              " 2.5325077772140503,\n",
              " 2.6398239135742188,\n",
              " 2.5877376198768616,\n",
              " 2.5932719111442566,\n",
              " 2.584213972091675,\n",
              " 2.680975019931793,\n",
              " 2.538031578063965,\n",
              " 2.6681110858917236,\n",
              " 2.60670667886734,\n",
              " 2.6842268109321594,\n",
              " 2.523874282836914,\n",
              " 2.6273319125175476,\n",
              " 2.662111282348633,\n",
              " 2.6656787991523743,\n",
              " 2.7218034863471985,\n",
              " 2.5534934401512146,\n",
              " 2.586954712867737,\n",
              " 2.638622224330902,\n",
              " 2.622963547706604,\n",
              " 2.621007561683655,\n",
              " 2.554913103580475,\n",
              " 2.565514385700226,\n",
              " 2.6704498529434204,\n",
              " 2.522803843021393,\n",
              " 2.655818521976471,\n",
              " 2.538660168647766,\n",
              " 2.6858511567115784,\n",
              " 2.6293343901634216,\n",
              " 2.6312443614006042,\n",
              " 2.487788498401642,\n",
              " 2.71995609998703,\n",
              " 2.6411370038986206,\n",
              " 2.6944092512130737,\n",
              " 2.6179510951042175,\n",
              " 2.5203855633735657,\n",
              " 2.5749425292015076,\n",
              " 2.5481600761413574,\n",
              " 2.5770827531814575,\n",
              " 2.543002665042877,\n",
              " 2.6605178713798523,\n",
              " 2.530862510204315,\n",
              " 2.6221900582313538,\n",
              " 2.6700910329818726,\n",
              " 2.618375241756439,\n",
              " 2.589312493801117,\n",
              " 2.6098192930221558,\n",
              " 2.6685733795166016,\n",
              " 2.5724071264266968,\n",
              " 2.5911062955856323,\n",
              " 2.6881250143051147,\n",
              " 2.6501792669296265,\n",
              " 2.5605642795562744,\n",
              " 2.655585765838623,\n",
              " 2.578264057636261,\n",
              " 2.650261104106903,\n",
              " 2.606642007827759,\n",
              " 2.738497495651245,\n",
              " 2.6425076723098755,\n",
              " 2.7246991395950317,\n",
              " 2.631836175918579,\n",
              " 2.6544532775878906,\n",
              " 2.701913297176361,\n",
              " 2.59925639629364,\n",
              " 2.565191388130188,\n",
              " 2.6342539191246033,\n",
              " 2.65873259305954,\n",
              " 2.7050594687461853,\n",
              " 2.592383623123169,\n",
              " 2.722370147705078,\n",
              " 2.639444351196289,\n",
              " 2.573853373527527,\n",
              " 2.683465003967285,\n",
              " 2.7044087052345276,\n",
              " 2.635063350200653,\n",
              " 2.7108163237571716,\n",
              " 2.6115552186965942,\n",
              " 2.6612460017204285,\n",
              " 2.6923845410346985,\n",
              " 2.672548830509186,\n",
              " 2.5795034170150757,\n",
              " 2.616765558719635,\n",
              " 2.5915324091911316,\n",
              " 2.6335333585739136,\n",
              " 2.661425471305847,\n",
              " 2.6146888732910156,\n",
              " 2.5761640667915344,\n",
              " 2.657078981399536,\n",
              " 2.555234909057617,\n",
              " 2.6532240509986877,\n",
              " 2.6728100776672363,\n",
              " 2.625675916671753,\n",
              " 2.588394343852997,\n",
              " 2.6555002331733704,\n",
              " 2.5595690608024597,\n",
              " 2.6407275199890137,\n",
              " 2.702221393585205,\n",
              " 2.6532649397850037,\n",
              " 2.667336106300354,\n",
              " 2.6413486003875732,\n",
              " 2.61836701631546,\n",
              " 2.7207037210464478,\n",
              " 2.544293165206909,\n",
              " 2.6388360261917114,\n",
              " 2.6445449590682983,\n",
              " 2.6959872245788574,\n",
              " 2.744281232357025,\n",
              " 2.621914565563202,\n",
              " 2.5864953994750977,\n",
              " 2.7179508209228516,\n",
              " 2.6257283687591553,\n",
              " 2.6182055473327637,\n",
              " 2.6019518971443176,\n",
              " 2.7870489954948425,\n",
              " 2.653768837451935,\n",
              " 2.598080635070801,\n",
              " 2.586959421634674,\n",
              " 2.6343260407447815,\n",
              " 2.7372373938560486,\n",
              " 2.644760489463806,\n",
              " 2.8791836500167847,\n",
              " 2.7156819701194763,\n",
              " 2.635696589946747,\n",
              " 2.5453831553459167,\n",
              " 2.5942195653915405,\n",
              " 2.588070511817932,\n",
              " 2.605806291103363,\n",
              " 2.6497028470039368,\n",
              " 2.6708306074142456,\n",
              " 2.779956817626953,\n",
              " 2.715460956096649,\n",
              " 2.6696742177009583,\n",
              " 2.7013492584228516,\n",
              " 2.7907097339630127,\n",
              " 2.7144705653190613,\n",
              " 2.638033866882324,\n",
              " 2.604927957057953,\n",
              " 2.6861695051193237,\n",
              " 2.580442726612091,\n",
              " 2.6839537620544434,\n",
              " 2.6744738817214966,\n",
              " 2.6901259422302246,\n",
              " 2.5866740942001343,\n",
              " 2.7080854773521423,\n",
              " 2.6765204668045044,\n",
              " 2.628105878829956,\n",
              " 2.650351643562317,\n",
              " 2.679529905319214,\n",
              " 2.6288007497787476,\n",
              " 2.639616370201111,\n",
              " 2.744939684867859,\n",
              " 2.6049007773399353,\n",
              " 2.7459222078323364,\n",
              " 2.6773887276649475,\n",
              " 2.633510649204254,\n",
              " 2.5821722745895386,\n",
              " 2.614944577217102,\n",
              " 2.574562132358551,\n",
              " 2.661473512649536,\n",
              " 2.7066537141799927,\n",
              " 2.643573820590973,\n",
              " 2.68031108379364,\n",
              " 2.5915969610214233,\n",
              " 2.661323130130768,\n",
              " 2.764367997646332,\n",
              " 2.706188380718231,\n",
              " 2.655116856098175,\n",
              " 2.556749939918518,\n",
              " 2.6346553564071655,\n",
              " 2.743688702583313,\n",
              " 2.6652713418006897,\n",
              " 2.702987015247345,\n",
              " 2.573264479637146,\n",
              " 2.6903114914894104,\n",
              " 2.7330042123794556,\n",
              " 2.6136602759361267,\n",
              " 2.6301140189170837,\n",
              " 2.6802775263786316,\n",
              " 2.655246615409851,\n",
              " 2.7002153992652893,\n",
              " 2.6312370896339417,\n",
              " 2.6874861121177673,\n",
              " 2.790748178958893,\n",
              " 2.7750089168548584,\n",
              " 2.668827474117279,\n",
              " 2.8150850534439087,\n",
              " 2.6778233647346497,\n",
              " 2.6652186512947083,\n",
              " 2.664977788925171,\n",
              " 2.601323962211609,\n",
              " 2.7331263422966003,\n",
              " 2.703688323497772,\n",
              " 2.7212358117103577,\n",
              " 2.6156700253486633,\n",
              " 2.6874046325683594,\n",
              " 2.7431082129478455,\n",
              " 2.7947254180908203,\n",
              " 2.6756656169891357,\n",
              " 2.7482768893241882,\n",
              " 2.7156296372413635,\n",
              " 2.7172651290893555,\n",
              " 2.764762759208679,\n",
              " 2.666873514652252,\n",
              " 2.7616512775421143,\n",
              " 2.665424406528473,\n",
              " 2.6503108143806458,\n",
              " 2.692833423614502,\n",
              " 2.6417461037635803,\n",
              " 2.7031995058059692,\n",
              " 2.624192237854004,\n",
              " 2.6985833644866943,\n",
              " 2.609103560447693,\n",
              " 2.7007513642311096,\n",
              " 2.842820107936859,\n",
              " 2.5864112973213196,\n",
              " 2.7897204160690308,\n",
              " 2.73542857170105,\n",
              " 2.7293055057525635,\n",
              " 2.693864643573761,\n",
              " 2.650802195072174,\n",
              " 2.713687002658844,\n",
              " 2.6742732524871826,\n",
              " 2.659269154071808,\n",
              " 2.7372081875801086,\n",
              " 2.686742067337036,\n",
              " 2.667152464389801,\n",
              " 2.7015798091888428,\n",
              " 2.6529213786125183,\n",
              " 2.7078428864479065,\n",
              " 2.58755362033844,\n",
              " 2.709433376789093,\n",
              " 2.671644628047943,\n",
              " 2.6151809096336365,\n",
              " 2.7043604254722595,\n",
              " 2.6841859221458435,\n",
              " 2.8346242904663086,\n",
              " 2.732821047306061,\n",
              " 2.6834558248519897,\n",
              " 2.7178210616111755,\n",
              " 2.7154786586761475,\n",
              " 2.743104100227356,\n",
              " 2.661164939403534,\n",
              " 2.674940049648285,\n",
              " 2.753097653388977,\n",
              " 2.697571814060211,\n",
              " 2.7270074486732483,\n",
              " 2.6805983781814575,\n",
              " 2.7363016605377197,\n",
              " 2.701264441013336,\n",
              " 2.6902467608451843,\n",
              " 2.653572380542755,\n",
              " 2.7641844749450684,\n",
              " 2.7601868510246277,\n",
              " 2.649595081806183,\n",
              " 2.727807343006134,\n",
              " 2.710770010948181,\n",
              " 2.6723257303237915,\n",
              " 2.702933132648468,\n",
              " 2.829848527908325,\n",
              " 2.7395917773246765,\n",
              " 2.7575460076332092,\n",
              " 2.703563868999481,\n",
              " 2.674988567829132,\n",
              " 2.6133047342300415,\n",
              " 2.698382079601288,\n",
              " 2.717140853404999,\n",
              " 2.691054046154022,\n",
              " 2.7742050886154175,\n",
              " 2.748782992362976,\n",
              " 2.7029035687446594,\n",
              " 2.675829827785492,\n",
              " 2.725794017314911,\n",
              " 2.694680392742157,\n",
              " 2.672427773475647,\n",
              " 2.7685803174972534,\n",
              " 2.6453388333320618,\n",
              " 2.7278215885162354,\n",
              " 2.5969448685646057,\n",
              " 2.6783044934272766,\n",
              " 2.6953848600387573,\n",
              " 2.715167999267578,\n",
              " 2.6822888255119324,\n",
              " 2.6493078470230103,\n",
              " 2.648208200931549,\n",
              " 2.6526715755462646,\n",
              " 2.7134156823158264,\n",
              " 2.8120616674423218,\n",
              " 2.6683096289634705]"
            ]
          },
          "metadata": {},
          "execution_count": 13
        }
      ]
    },
    {
      "cell_type": "code",
      "source": [
        "import matplotlib.pyplot as plt\n",
        "\n",
        "plt.plot(range(1, len(average_mae_history) + 1), average_mae_history)\n",
        "plt.xlabel(\"Epochs\")\n",
        "plt.ylabel(\"MAE-(Validation)\")"
      ],
      "metadata": {
        "colab": {
          "base_uri": "https://localhost:8080/",
          "height": 296
        },
        "id": "hRw4yxKZ4yAx",
        "outputId": "9f2eda02-71be-4f31-ad18-2f191c094324"
      },
      "execution_count": 14,
      "outputs": [
        {
          "output_type": "execute_result",
          "data": {
            "text/plain": [
              "Text(0, 0.5, 'MAE-(Validation)')"
            ]
          },
          "metadata": {},
          "execution_count": 14
        },
        {
          "output_type": "display_data",
          "data": {
            "image/png": "[encoded data removed]",
            "text/plain": [
              "<Figure size 432x288 with 1 Axes>"
            ]
          },
          "metadata": {
            "needs_background": "light"
          }
        }
      ]
    },
    {
      "cell_type": "code",
      "source": [
        "def smooth_curve(points, factor=0.9):\n",
        "  smoothed_points = []\n",
        "  for point in points:\n",
        "    if smoothed_points:\n",
        "      previous = smoothed_points[-1]\n",
        "      smoothed_points.append(previous * factor + point * (1 - factor))\n",
        "    else:\n",
        "      smoothed_points.append(points)\n",
        "    return smoothed_points"
      ],
      "metadata": {
        "id": "gmhs2c7i69_a"
      },
      "execution_count": 15,
      "outputs": []
    },
    {
      "cell_type": "code",
      "source": [
        "smooth_mae_history = smooth_curve(average_mae_history[10:])\n"
      ],
      "metadata": {
        "id": "FyXqV81u81LY"
      },
      "execution_count": 16,
      "outputs": []
    },
    {
      "cell_type": "code",
      "source": [
        "model = build_model()\n",
        "model.fit(train_data, train_targets, epochs=80, batch_size=16, verbose=0)\n",
        "test_mse_score, test_mae_score = model.evaluate(test_data, test_targets)"
      ],
      "metadata": {
        "colab": {
          "base_uri": "https://localhost:8080/"
        },
        "id": "vYWoQ7hO9MTz",
        "outputId": "6387404f-bf4a-41ee-c665-8071f796fde2"
      },
      "execution_count": 22,
      "outputs": [
        {
          "output_type": "stream",
          "name": "stdout",
          "text": [
            "4/4 [==============================] - 0s 5ms/step - loss: 20.9313 - mae: 2.9133\n"
          ]
        }
      ]
    },
    {
      "cell_type": "code",
      "source": [
        "test_mae_score"
      ],
      "metadata": {
        "colab": {
          "base_uri": "https://localhost:8080/"
        },
        "id": "cbMs5QC_9lM5",
        "outputId": "3e8c8e61-e597-409c-b4ba-fc1c16dfcc02"
      },
      "execution_count": 24,
      "outputs": [
        {
          "output_type": "execute_result",
          "data": {
            "text/plain": [
              "2.9133222103118896"
            ]
          },
          "metadata": {},
          "execution_count": 24
        }
      ]
    },
    {
      "cell_type": "code",
      "source": [
        "test_mse_score"
      ],
      "metadata": {
        "colab": {
          "base_uri": "https://localhost:8080/"
        },
        "id": "xanQn0mM9oIe",
        "outputId": "6520461d-eff8-435c-9e18-2351cf51cb0a"
      },
      "execution_count": 25,
      "outputs": [
        {
          "output_type": "execute_result",
          "data": {
            "text/plain": [
              "20.931331634521484"
            ]
          },
          "metadata": {},
          "execution_count": 25
        }
      ]
    },
    {
      "cell_type": "code",
      "source": [
        ""
      ],
      "metadata": {
        "id": "TzSzL6nj9ydh"
      },
      "execution_count": null,
      "outputs": []
    }
  ]
}
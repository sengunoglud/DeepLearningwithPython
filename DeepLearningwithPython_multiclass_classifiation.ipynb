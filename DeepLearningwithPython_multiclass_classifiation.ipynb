{
  "nbformat": 4,
  "nbformat_minor": 0,
  "metadata": {
    "colab": {
      "name": "DeepLearningwithPython-multiclass classifiation.ipynb",
      "provenance": []
    },
    "kernelspec": {
      "name": "python3",
      "display_name": "Python 3"
    },
    "language_info": {
      "name": "python"
    }
  },
  "cells": [
    {
      "cell_type": "code",
      "execution_count": 1,
      "metadata": {
        "id": "rpSxJ9V03GZp"
      },
      "outputs": [],
      "source": [
        "from keras.datasets import reuters"
      ]
    },
    {
      "cell_type": "code",
      "source": [
        "(train_data, train_labels), (test_data, test_labels) = reuters.load_data(num_words=10000)"
      ],
      "metadata": {
        "colab": {
          "base_uri": "https://localhost:8080/"
        },
        "id": "I22KA-iE3xPC",
        "outputId": "0e002f5f-265e-46ae-853e-ea97327093b4"
      },
      "execution_count": 2,
      "outputs": [
        {
          "output_type": "stream",
          "name": "stdout",
          "text": [
            "Downloading data from https://storage.googleapis.com/tensorflow/tf-keras-datasets/reuters.npz\n",
            "2113536/2110848 [==============================] - 0s 0us/step\n",
            "2121728/2110848 [==============================] - 0s 0us/step\n"
          ]
        }
      ]
    },
    {
      "cell_type": "code",
      "source": [
        "len(train_data)"
      ],
      "metadata": {
        "colab": {
          "base_uri": "https://localhost:8080/"
        },
        "id": "44Gjd4iq4G2u",
        "outputId": "a18391e3-c75d-444c-d37d-9f7b56a2e172"
      },
      "execution_count": 3,
      "outputs": [
        {
          "output_type": "execute_result",
          "data": {
            "text/plain": [
              "8982"
            ]
          },
          "metadata": {},
          "execution_count": 3
        }
      ]
    },
    {
      "cell_type": "code",
      "source": [
        "len(test_data)"
      ],
      "metadata": {
        "colab": {
          "base_uri": "https://localhost:8080/"
        },
        "id": "PtshsYUy4Kqr",
        "outputId": "277ce671-a3e7-4f73-a528-6a7e71ad48fa"
      },
      "execution_count": 4,
      "outputs": [
        {
          "output_type": "execute_result",
          "data": {
            "text/plain": [
              "2246"
            ]
          },
          "metadata": {},
          "execution_count": 4
        }
      ]
    },
    {
      "cell_type": "code",
      "source": [
        "len(train_data[10])"
      ],
      "metadata": {
        "colab": {
          "base_uri": "https://localhost:8080/"
        },
        "id": "9NWbqj1P4MKi",
        "outputId": "28ea5644-4492-4726-8ecd-25068d1db2fd"
      },
      "execution_count": 7,
      "outputs": [
        {
          "output_type": "execute_result",
          "data": {
            "text/plain": [
              "31"
            ]
          },
          "metadata": {},
          "execution_count": 7
        }
      ]
    },
    {
      "cell_type": "code",
      "source": [
        "len(train_data[1])"
      ],
      "metadata": {
        "colab": {
          "base_uri": "https://localhost:8080/"
        },
        "id": "aOhogWWX4Qfb",
        "outputId": "05028f69-9d19-48a2-998f-2951d8e55a79"
      },
      "execution_count": 8,
      "outputs": [
        {
          "output_type": "execute_result",
          "data": {
            "text/plain": [
              "56"
            ]
          },
          "metadata": {},
          "execution_count": 8
        }
      ]
    },
    {
      "cell_type": "code",
      "source": [
        "word_index = reuters.get_word_index()"
      ],
      "metadata": {
        "colab": {
          "base_uri": "https://localhost:8080/"
        },
        "id": "GLFAcFTx4mKP",
        "outputId": "ad2ccc79-17b2-4f11-d3d6-f6e4f9bff3b7"
      },
      "execution_count": 9,
      "outputs": [
        {
          "output_type": "stream",
          "name": "stdout",
          "text": [
            "Downloading data from https://storage.googleapis.com/tensorflow/tf-keras-datasets/reuters_word_index.json\n",
            "557056/550378 [==============================] - 0s 0us/step\n",
            "565248/550378 [==============================] - 0s 0us/step\n"
          ]
        }
      ]
    },
    {
      "cell_type": "code",
      "source": [
        "len(word_index)"
      ],
      "metadata": {
        "colab": {
          "base_uri": "https://localhost:8080/"
        },
        "id": "WGh877VC4wTk",
        "outputId": "7fdf4dec-6041-47c3-eeff-d30b7d8b9898"
      },
      "execution_count": 11,
      "outputs": [
        {
          "output_type": "execute_result",
          "data": {
            "text/plain": [
              "30979"
            ]
          },
          "metadata": {},
          "execution_count": 11
        }
      ]
    },
    {
      "cell_type": "code",
      "source": [
        "reverse_word_index = dict([(value, key) for (key, value) in word_index.items()])"
      ],
      "metadata": {
        "id": "46x7XOJs4xQr"
      },
      "execution_count": 12,
      "outputs": []
    },
    {
      "cell_type": "code",
      "source": [
        "import numpy as np\n",
        "def vectorize_sequences(sequences, dimension=10000):\n",
        "  results = np.zeros((len(sequences), dimension))\n",
        "  for i, sequence in enumerate(sequences):\n",
        "    results[i, sequence] = 1.\n",
        "  return results \n",
        "\n",
        "x_train = vectorize_sequences(train_data)\n",
        "x_test = vectorize_sequences(test_data)"
      ],
      "metadata": {
        "id": "k022Pq3S5XUD"
      },
      "execution_count": 20,
      "outputs": []
    },
    {
      "cell_type": "code",
      "source": [
        "def to_one_hot(labels, dimension = 46):\n",
        "  results = np.zeros((len(labels), dimension))\n",
        "  for i, label in enumerate(labels):\n",
        "    results[i, label] = 1.\n",
        "  return results\n",
        "\n",
        "one_hot_train_labels = to_one_hot(train_labels)\n",
        "one_hot_test_labels = to_one_hot(test_labels)\n"
      ],
      "metadata": {
        "id": "xJW0evmP7Seo"
      },
      "execution_count": 21,
      "outputs": []
    },
    {
      "cell_type": "code",
      "source": [
        "from keras import models\n",
        "from keras import layers\n",
        "\n",
        "model = models.Sequential()\n",
        "model.add(layers.Dense(64, activation='relu', input_shape=(10000,)))\n",
        "model.add(layers.Dense(64, activation='relu'))\n",
        "model.add(layers.Dense(46, activation='softmax'))\n",
        "\n",
        "model.compile(optimizer='rmsprop',\n",
        "              loss='categorical_crossentropy',\n",
        "              metrics=['accuracy'])\n"
      ],
      "metadata": {
        "id": "RmDpfM188RTH"
      },
      "execution_count": 22,
      "outputs": []
    },
    {
      "cell_type": "code",
      "source": [
        "x_val = x_train[:1000]\n",
        "partial_x_train = x_train[1000:]\n",
        "\n",
        "y_val = one_hot_train_labels[:1000]\n",
        "partial_y_train = one_hot_train_labels[1000:]"
      ],
      "metadata": {
        "id": "wHUL_HV-9j5P"
      },
      "execution_count": 23,
      "outputs": []
    },
    {
      "cell_type": "code",
      "source": [
        "history = model.fit(partial_x_train,\n",
        "                    partial_y_train,\n",
        "                    epochs=20,\n",
        "                    batch_size=512,\n",
        "                    validation_data=(x_val, y_val))"
      ],
      "metadata": {
        "colab": {
          "base_uri": "https://localhost:8080/"
        },
        "id": "-opiB9DN_1Ii",
        "outputId": "b094c3f6-c4b7-464c-abc3-1c9c986e10dd"
      },
      "execution_count": 24,
      "outputs": [
        {
          "output_type": "stream",
          "name": "stdout",
          "text": [
            "Epoch 1/20\n",
            "16/16 [==============================] - 2s 65ms/step - loss: 2.6432 - accuracy: 0.4629 - val_loss: 1.7517 - val_accuracy: 0.6370\n",
            "Epoch 2/20\n",
            "16/16 [==============================] - 1s 51ms/step - loss: 1.4390 - accuracy: 0.7085 - val_loss: 1.2947 - val_accuracy: 0.7170\n",
            "Epoch 3/20\n",
            "16/16 [==============================] - 1s 52ms/step - loss: 1.0495 - accuracy: 0.7846 - val_loss: 1.1123 - val_accuracy: 0.7700\n",
            "Epoch 4/20\n",
            "16/16 [==============================] - 1s 50ms/step - loss: 0.8267 - accuracy: 0.8250 - val_loss: 1.0216 - val_accuracy: 0.7930\n",
            "Epoch 5/20\n",
            "16/16 [==============================] - 1s 51ms/step - loss: 0.6602 - accuracy: 0.8591 - val_loss: 0.9751 - val_accuracy: 0.7930\n",
            "Epoch 6/20\n",
            "16/16 [==============================] - 1s 51ms/step - loss: 0.5333 - accuracy: 0.8872 - val_loss: 0.9245 - val_accuracy: 0.8120\n",
            "Epoch 7/20\n",
            "16/16 [==============================] - 1s 51ms/step - loss: 0.4295 - accuracy: 0.9114 - val_loss: 0.9030 - val_accuracy: 0.8120\n",
            "Epoch 8/20\n",
            "16/16 [==============================] - 1s 49ms/step - loss: 0.3519 - accuracy: 0.9275 - val_loss: 0.9023 - val_accuracy: 0.8130\n",
            "Epoch 9/20\n",
            "16/16 [==============================] - 1s 50ms/step - loss: 0.2895 - accuracy: 0.9396 - val_loss: 0.8949 - val_accuracy: 0.8160\n",
            "Epoch 10/20\n",
            "16/16 [==============================] - 1s 50ms/step - loss: 0.2469 - accuracy: 0.9431 - val_loss: 0.9329 - val_accuracy: 0.8090\n",
            "Epoch 11/20\n",
            "16/16 [==============================] - 1s 52ms/step - loss: 0.2099 - accuracy: 0.9486 - val_loss: 0.8889 - val_accuracy: 0.8170\n",
            "Epoch 12/20\n",
            "16/16 [==============================] - 1s 50ms/step - loss: 0.1872 - accuracy: 0.9515 - val_loss: 0.9492 - val_accuracy: 0.8090\n",
            "Epoch 13/20\n",
            "16/16 [==============================] - 1s 51ms/step - loss: 0.1654 - accuracy: 0.9548 - val_loss: 0.9534 - val_accuracy: 0.8100\n",
            "Epoch 14/20\n",
            "16/16 [==============================] - 1s 51ms/step - loss: 0.1519 - accuracy: 0.9557 - val_loss: 0.9817 - val_accuracy: 0.8030\n",
            "Epoch 15/20\n",
            "16/16 [==============================] - 1s 51ms/step - loss: 0.1440 - accuracy: 0.9563 - val_loss: 0.9505 - val_accuracy: 0.8100\n",
            "Epoch 16/20\n",
            "16/16 [==============================] - 1s 52ms/step - loss: 0.1305 - accuracy: 0.9546 - val_loss: 1.0041 - val_accuracy: 0.8030\n",
            "Epoch 17/20\n",
            "16/16 [==============================] - 1s 51ms/step - loss: 0.1252 - accuracy: 0.9572 - val_loss: 1.0108 - val_accuracy: 0.8070\n",
            "Epoch 18/20\n",
            "16/16 [==============================] - 1s 51ms/step - loss: 0.1237 - accuracy: 0.9559 - val_loss: 1.0987 - val_accuracy: 0.7930\n",
            "Epoch 19/20\n",
            "16/16 [==============================] - 1s 51ms/step - loss: 0.1146 - accuracy: 0.9570 - val_loss: 1.0736 - val_accuracy: 0.8020\n",
            "Epoch 20/20\n",
            "16/16 [==============================] - 1s 50ms/step - loss: 0.1140 - accuracy: 0.9579 - val_loss: 1.0191 - val_accuracy: 0.8040\n"
          ]
        }
      ]
    },
    {
      "cell_type": "code",
      "source": [
        "import matplotlib.pyplot as plt\n",
        "\n",
        "\n",
        "loss = history.history['loss']\n",
        "val_loss = history.history['val_loss']\n",
        "\n",
        "epochs = range(1, len(loss) + 1)\n",
        "\n",
        "plt.plot(epochs, loss, 'bo', label='Training loss')\n",
        "plt.plot(epochs, val_loss, 'b', label='Validation loss')\n",
        "plt.xlabel('Epochs')\n",
        "plt.ylabel('Loss')\n",
        "plt.title('Learning and validation loss')\n",
        "plt.legend()\n",
        "plt.show()"
      ],
      "metadata": {
        "colab": {
          "base_uri": "https://localhost:8080/",
          "height": 295
        },
        "id": "IGIUvaSmBfx9",
        "outputId": "1fccb41e-e0da-4606-89de-c79c057d8a97"
      },
      "execution_count": 35,
      "outputs": [
        {
          "output_type": "display_data",
          "data": {
            "image/png": "[encoded data removed]",
            "text/plain": [
              "<Figure size 432x288 with 1 Axes>"
            ]
          },
          "metadata": {
            "needs_background": "light"
          }
        }
      ]
    },
    {
      "cell_type": "code",
      "source": [
        "plt.clf()\n",
        "acc = history.history['accuracy']\n",
        "val_acc = history.history['val_accuracy']\n",
        "\n",
        "epochs = range(1, len(acc) + 1)\n",
        "\n",
        "plt.plot(epochs, acc, 'bo', label='Training acc')\n",
        "plt.plot(epochs, val_acc, 'b', label='Validation acc')\n",
        "plt.xlabel('Epochs')\n",
        "plt.ylabel('Accuracy')\n",
        "plt.title('Learning and validation accuracy')\n",
        "plt.legend()\n",
        "plt.show()"
      ],
      "metadata": {
        "colab": {
          "base_uri": "https://localhost:8080/",
          "height": 295
        },
        "id": "8ABDvdS9CeKU",
        "outputId": "0324a9a6-2422-446d-8626-5861e588c4f2"
      },
      "execution_count": 36,
      "outputs": [
        {
          "output_type": "display_data",
          "data": {
            "image/png": "[encoded data removed]",
            "text/plain": [
              "<Figure size 432x288 with 1 Axes>"
            ]
          },
          "metadata": {
            "needs_background": "light"
          }
        }
      ]
    },
    {
      "cell_type": "code",
      "source": [
        "model.fit(partial_x_train,\n",
        "          partial_y_train,\n",
        "          epochs=9,\n",
        "          batch_size=512,\n",
        "          validation_data=(x_val,y_val))\n",
        "results = model.evaluate(x_test, one_hot_test_labels)"
      ],
      "metadata": {
        "colab": {
          "base_uri": "https://localhost:8080/"
        },
        "id": "MLYOivvvEbNO",
        "outputId": "603d1f31-0de0-45b5-f0bd-0f5c2222ee65"
      },
      "execution_count": 37,
      "outputs": [
        {
          "output_type": "stream",
          "name": "stdout",
          "text": [
            "Epoch 1/9\n",
            "16/16 [==============================] - 1s 52ms/step - loss: 0.1073 - accuracy: 0.9592 - val_loss: 1.1316 - val_accuracy: 0.7870\n",
            "Epoch 2/9\n",
            "16/16 [==============================] - 1s 48ms/step - loss: 0.1052 - accuracy: 0.9583 - val_loss: 1.0929 - val_accuracy: 0.8070\n",
            "Epoch 3/9\n",
            "16/16 [==============================] - 1s 50ms/step - loss: 0.1057 - accuracy: 0.9569 - val_loss: 1.0909 - val_accuracy: 0.8140\n",
            "Epoch 4/9\n",
            "16/16 [==============================] - 1s 49ms/step - loss: 0.1048 - accuracy: 0.9578 - val_loss: 1.1319 - val_accuracy: 0.7950\n",
            "Epoch 5/9\n",
            "16/16 [==============================] - 1s 48ms/step - loss: 0.1001 - accuracy: 0.9597 - val_loss: 1.2311 - val_accuracy: 0.7790\n",
            "Epoch 6/9\n",
            "16/16 [==============================] - 1s 47ms/step - loss: 0.0987 - accuracy: 0.9583 - val_loss: 1.0963 - val_accuracy: 0.8080\n",
            "Epoch 7/9\n",
            "16/16 [==============================] - 1s 47ms/step - loss: 0.0990 - accuracy: 0.9579 - val_loss: 1.1330 - val_accuracy: 0.8110\n",
            "Epoch 8/9\n",
            "16/16 [==============================] - 1s 49ms/step - loss: 0.0968 - accuracy: 0.9577 - val_loss: 1.1613 - val_accuracy: 0.8010\n",
            "Epoch 9/9\n",
            "16/16 [==============================] - 1s 47ms/step - loss: 0.0993 - accuracy: 0.9567 - val_loss: 1.1511 - val_accuracy: 0.8040\n",
            "71/71 [==============================] - 0s 3ms/step - loss: 1.3842 - accuracy: 0.7783\n"
          ]
        }
      ]
    },
    {
      "cell_type": "code",
      "source": [
        "import copy\n",
        "test_labels_copy = copy.copy(test_labels)\n",
        "np.random.shuffle(test_labels_copy)\n",
        "hits_array = np.array(test_labels) == np.array(test_labels_copy)\n",
        "float(np.sum(hits_array)) / len(test_labels)"
      ],
      "metadata": {
        "colab": {
          "base_uri": "https://localhost:8080/"
        },
        "id": "uEHWENZgFayD",
        "outputId": "af6901ff-51e1-4dd1-c917-bd387a53e40a"
      },
      "execution_count": 38,
      "outputs": [
        {
          "output_type": "execute_result",
          "data": {
            "text/plain": [
              "0.18521816562778273"
            ]
          },
          "metadata": {},
          "execution_count": 38
        }
      ]
    },
    {
      "cell_type": "code",
      "source": [
        "predictions = model.predict(x_test)"
      ],
      "metadata": {
        "id": "1Jez29X8HkeE"
      },
      "execution_count": 40,
      "outputs": []
    },
    {
      "cell_type": "code",
      "source": [
        "predictions[0].shape"
      ],
      "metadata": {
        "colab": {
          "base_uri": "https://localhost:8080/"
        },
        "id": "WpAvkuOGIQet",
        "outputId": "bc250365-e6f5-479f-f3e8-ae2b0644f2df"
      },
      "execution_count": 41,
      "outputs": [
        {
          "output_type": "execute_result",
          "data": {
            "text/plain": [
              "(46,)"
            ]
          },
          "metadata": {},
          "execution_count": 41
        }
      ]
    },
    {
      "cell_type": "code",
      "source": [
        "np.sum(predictions[0])"
      ],
      "metadata": {
        "colab": {
          "base_uri": "https://localhost:8080/"
        },
        "id": "pjFE5gesIX06",
        "outputId": "27060c7e-b82a-44fa-80d8-4fcc3bdd981a"
      },
      "execution_count": 42,
      "outputs": [
        {
          "output_type": "execute_result",
          "data": {
            "text/plain": [
              "1.0000001"
            ]
          },
          "metadata": {},
          "execution_count": 42
        }
      ]
    },
    {
      "cell_type": "code",
      "source": [
        "np.argmax(predictions[0])"
      ],
      "metadata": {
        "colab": {
          "base_uri": "https://localhost:8080/"
        },
        "id": "c-GQvRivIcZJ",
        "outputId": "529bbef6-437c-44e7-8a7c-b1a9a9176e5a"
      },
      "execution_count": 43,
      "outputs": [
        {
          "output_type": "execute_result",
          "data": {
            "text/plain": [
              "3"
            ]
          },
          "metadata": {},
          "execution_count": 43
        }
      ]
    },
    {
      "cell_type": "code",
      "source": [
        ""
      ],
      "metadata": {
        "id": "gkq1t6PmIn-4"
      },
      "execution_count": null,
      "outputs": []
    }
  ]
}